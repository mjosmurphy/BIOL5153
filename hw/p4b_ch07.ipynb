{
 "cells": [
  {
   "cell_type": "code",
   "execution_count": 1,
   "metadata": {},
   "outputs": [],
   "source": [
    "# imports module dealing with regex\n",
    "import re"
   ]
  },
  {
   "cell_type": "code",
   "execution_count": 8,
   "metadata": {},
   "outputs": [
    {
     "name": "stdout",
     "output_type": "stream",
     "text": [
      "\\t\\n\n",
      "\tspam\n",
      "\n",
      "\\tspam\\n\n"
     ]
    }
   ],
   "source": [
    "# print a raw string (ignores the escape character)\n",
    "print(r\"\\t\\n\")\n",
    "print(\"\\tspam\\n\")\n",
    "print(r\"\\tspam\\n\")\n",
    "\n",
    "# this won't work, though:\n",
    "# print(r\"\"\")\n"
   ]
  },
  {
   "cell_type": "code",
   "execution_count": null,
   "metadata": {},
   "outputs": [],
   "source": [
    "## Searching for a pattern in a string"
   ]
  },
  {
   "cell_type": "code",
   "execution_count": 9,
   "metadata": {},
   "outputs": [
    {
     "name": "stdout",
     "output_type": "stream",
     "text": [
      "restriction site found!\n"
     ]
    }
   ],
   "source": [
    "dna = \"ATCGCGAATTCAC\"\n",
    "\n",
    "# regular expression search\n",
    "# syntax: re.search(pattern, string)\n",
    "# (is the pattern contained within the string?)\n",
    "if re.search(r\"GAATTC\", dna):\n",
    "    print(\"restriction site found!\")"
   ]
  },
  {
   "cell_type": "code",
   "execution_count": 17,
   "metadata": {},
   "outputs": [
    {
     "name": "stdout",
     "output_type": "stream",
     "text": [
      "restriction site not found!\n",
      "\n",
      "another sequence ...\n",
      "\n",
      "restriction site found!\n"
     ]
    }
   ],
   "source": [
    "# (A|T) = \"A or T at this position\"\n",
    "dna = \"ATCGCGAATTCAC\"\n",
    "if re.search(r\"GG(A|T)CC\", dna):\n",
    "    print(\"restriction site found!\")\n",
    "else:\n",
    "    print(\"restriction site not found!\")\n",
    "\n",
    "print(\"\\n\" + \"another sequence ...\" + \"\\n\")\n",
    "\n",
    "dna = \"ATCGCGGACCTCAC\"\n",
    "if re.search(r\"GG(A|T)CC\", dna):\n",
    "    print(\"restriction site found!\")\n",
    "else:\n",
    "    print(\"restriction site not found!\")"
   ]
  },
  {
   "cell_type": "code",
   "execution_count": 18,
   "metadata": {},
   "outputs": [],
   "source": [
    " ## Character groups"
   ]
  },
  {
   "cell_type": "code",
   "execution_count": 20,
   "metadata": {},
   "outputs": [
    {
     "name": "stdout",
     "output_type": "stream",
     "text": [
      "restriction site not found!\n",
      "\n",
      "another sequence ...\n",
      "\n",
      "restriction site found!\n"
     ]
    }
   ],
   "source": [
    "# GC(A|T|G|C) = GC[ATGC]\n",
    "dna = \"ATCGCGAATTCAC\"\n",
    "if re.search(r\"GC[ATGC]GC\",dna):\n",
    "    print(\"restriction site found!\")\n",
    "else:\n",
    "    print(\"restriction site not found!\")\n",
    "    \n",
    "print(\"\\n\" + \"another sequence ...\" + \"\\n\")\n",
    "dna = \"ATCGCGGCAGCATTCAC\"\n",
    "if re.search(r\"GC[ATGC]GC\",dna):\n",
    "    print(\"restriction site found!\")\n",
    "else:\n",
    "    print(\"restriction site not found!\")\n",
    "   "
   ]
  },
  {
   "cell_type": "code",
   "execution_count": 22,
   "metadata": {},
   "outputs": [],
   "source": [
    "# putting a caret at the front will negate...\n",
    "# [^XYZ]"
   ]
  },
  {
   "cell_type": "code",
   "execution_count": 35,
   "metadata": {},
   "outputs": [
    {
     "name": "stdout",
     "output_type": "stream",
     "text": [
      "yes\n",
      "yes\n",
      "no\n",
      "yes\n",
      "yes\n",
      "yes\n"
     ]
    }
   ],
   "source": [
    "# a question mark following a character:\n",
    "# match 0 or 1 times\n",
    "if re.search(r\"GAT?C\", \"GATC\"):\n",
    "    print(\"yes\")\n",
    "else:\n",
    "    print(\"no\")\n",
    "\n",
    "if re.search(r\"GAT?C\", \"GAC\"):\n",
    "    print(\"yes\")\n",
    "else:\n",
    "    print(\"no\")\n",
    "\n",
    "if re.search(r\"GAt?C\", \"GATC\"):\n",
    "    print(\"yes\")\n",
    "else:\n",
    "    print(\"no\")\n",
    "\n",
    "if re.search(r\"GA(T|t)?\", \"GAtC\"):\n",
    "    print(\"yes\")\n",
    "else:\n",
    "    print(\"no\")\n",
    "\n",
    "if re.search(r\"GA(T|t)?C\", \"GAtC\"):\n",
    "    print(\"yes\")\n",
    "else:\n",
    "    print(\"no\")\n",
    "    \n",
    "if re.search(r\"GA[^ACG]C\", \"GATC\"):\n",
    "    print(\"yes\")\n",
    "else:\n",
    "    print(\"no\")"
   ]
  },
  {
   "cell_type": "code",
   "execution_count": 44,
   "metadata": {},
   "outputs": [
    {
     "name": "stdout",
     "output_type": "stream",
     "text": [
      "\n",
      "+\n",
      "yes\n"
     ]
    }
   ],
   "source": [
    "# an asterisk means that the character is optional OR repeated >0 times\n",
    "if re.search(r\"GGGA*TTT\", \"GGGAAAAAAAaaaAAAAAAAAAAAAAAATTT\"):\n",
    "    print(\"yes\")\n",
    "print(\"\\n\"+\"+\")\n",
    "if re.search(r\"GGGA*TTT\", \"GGGAAAAAAAAAAAAAAAAAAAAAATTT\"):\n",
    "    print(\"yes\")"
   ]
  },
  {
   "cell_type": "code",
   "execution_count": 45,
   "metadata": {},
   "outputs": [],
   "source": [
    "# to match a range of repeats, use curly brackets"
   ]
  },
  {
   "cell_type": "code",
   "execution_count": 48,
   "metadata": {},
   "outputs": [
    {
     "name": "stdout",
     "output_type": "stream",
     "text": [
      "combining stuff works!!!\n"
     ]
    }
   ],
   "source": [
    "# you can combine these!!!\n",
    "# ^AUG[AUGC]{30,1000}A{5,10}$\n",
    "# the beginning has to be AUG\n",
    "# then, A or U or G or C repeats between 30 and 1000 times\n",
    "# then, an A tail of 5 to 10 nucleotides at the end\n",
    "# in action:\n",
    "rna = \"AUGAUGCAUGCAUGCAUGCAUGCAUGCAUGCAUGCAUGCAUGCAUGCAUGCAUGCAUGCAAAAA\"\n",
    "if re.search(r\"^AUG[AUGC]{30,1000}A{5,10}$\", rna):\n",
    "    print(\"combining stuff works!!!\")\n",
    "\n",
    "# re.match : match the ENTIRE STRING, not just search thru the string for matches"
   ]
  },
  {
   "cell_type": "code",
   "execution_count": 54,
   "metadata": {},
   "outputs": [
    {
     "name": "stdout",
     "output_type": "stream",
     "text": [
      "ambiguous base found!\n"
     ]
    }
   ],
   "source": [
    "dna = \"ATCGCGYAATTCAC\"\n",
    "if re.search(r\"[^ATGC]\", dna):\n",
    "    print(\"ambiguous base found!\")"
   ]
  },
  {
   "cell_type": "code",
   "execution_count": 56,
   "metadata": {},
   "outputs": [
    {
     "name": "stdout",
     "output_type": "stream",
     "text": [
      "ambiguous base found!\n",
      "the base is N\n",
      "\n",
      " \n",
      "\n",
      "ambiguous base(s) found!\n",
      "the base(s) is/are N\n"
     ]
    }
   ],
   "source": [
    "dna = \"GCATNCGGAACGATC\"\n",
    "m = re.search(r\"[^ATGC]\", dna)\n",
    "\n",
    "# m is now a match object\n",
    "if m:\n",
    "    print(\"ambiguous base found!\")\n",
    "    ambig = m.group()\n",
    "    print(\"the base is \" + ambig)\n",
    "    \n",
    "print(\"\\n \\n\")\n",
    "\n",
    "# this only seems to match the first instance ...\n",
    "dna = \"GCATNYNGGATTC\"\n",
    "m = re.search(r\"[^ATGC]\", dna)\n",
    "if m:\n",
    "    print(\"ambiguous base(s) found!\")\n",
    "    ambig = m.group()\n",
    "    print(\"the base(s) is/are \" + ambig)"
   ]
  },
  {
   "cell_type": "code",
   "execution_count": 71,
   "metadata": {},
   "outputs": [
    {
     "name": "stdout",
     "output_type": "stream",
     "text": [
      "ambiguous base(s) found!\n",
      "the base(s) is/are:\n",
      "N\n",
      "Y\n",
      "N\n",
      "\n",
      "\n",
      "ambiguous base(s) found!\n",
      "the base(s) is/are:\n",
      "N\n",
      "Y\n"
     ]
    }
   ],
   "source": [
    "# here's how to fix the loop\n",
    "dna = \"GCATNYNGGATTC\"\n",
    "m = re.search(r\"([^ATGC]+)\", dna)\n",
    "if m:\n",
    "    print(\"ambiguous base(s) found!\")\n",
    "    ambig = m.group()\n",
    "    print(\"the base(s) is/are:\")\n",
    "    for letter in ambig:\n",
    "        print(letter)\n",
    "        \n",
    "print(\"\\n\")\n",
    "dna = \"GCATNYGNGATTC\"\n",
    "m = re.search(r\"([^ATGC]+)\", dna)\n",
    "if m:\n",
    "    print(\"ambiguous base(s) found!\")\n",
    "    ambig = m.group()\n",
    "    print(\"the base(s) is/are:\")\n",
    "    for letter in ambig:\n",
    "        print(letter)"
   ]
  },
  {
   "cell_type": "code",
   "execution_count": 65,
   "metadata": {},
   "outputs": [
    {
     "name": "stdout",
     "output_type": "stream",
     "text": [
      "genus is Homo, species is sapiens\n"
     ]
    }
   ],
   "source": [
    "scientific_name = \"Homo sapiens\"\n",
    "m = re.search(\"(.+) (.+)\", scientific_name)\n",
    "if m:\n",
    "    genus = m.group(1)\n",
    "    species = m.group(2)\n",
    "    print(\"genus is \" + genus + \", species is \" + species)"
   ]
  },
  {
   "cell_type": "code",
   "execution_count": 69,
   "metadata": {},
   "outputs": [
    {
     "name": "stdout",
     "output_type": "stream",
     "text": [
      "Homo\n",
      "o\n",
      "s\n"
     ]
    }
   ],
   "source": [
    "# First thing matched\n",
    "print(m.group(1))\n",
    "\n",
    "# Second character matched\n",
    "print(m.group()[1])\n",
    "\n",
    "# First character in second item matched\n",
    "print(m.group(2)[0])"
   ]
  },
  {
   "cell_type": "code",
   "execution_count": 70,
   "metadata": {},
   "outputs": [
    {
     "name": "stdout",
     "output_type": "stream",
     "text": [
      "ambiguous base found!\n",
      "at position 4\n"
     ]
    }
   ],
   "source": [
    "dna = \"CGATNCGGAACGATC\"\n",
    "m = re.search(r\"[^ATGC]\", dna)\n",
    "if m:\n",
    "    print(\"ambiguous base found!\")\n",
    "    print(\"at position \" + str(m.start()))"
   ]
  },
  {
   "cell_type": "code",
   "execution_count": 72,
   "metadata": {},
   "outputs": [
    {
     "name": "stdout",
     "output_type": "stream",
     "text": [
      "N found at position 5\n",
      "R found at position 14\n",
      "Y found at position 24\n"
     ]
    }
   ],
   "source": [
    "# another way to find multiple matches\n",
    "# re.finditer()\n",
    "dna = \"CGCTCNTAGATGCGRATGACTGCAYTGC\"\n",
    "matches = re.finditer(r\"[^ATGC]\", dna)\n",
    "for m in matches:\n",
    "    base = m.group()\n",
    "    pos = m.start()\n",
    "    print(base + \" found at position \" + str(pos))"
   ]
  },
  {
   "cell_type": "code",
   "execution_count": 73,
   "metadata": {},
   "outputs": [],
   "source": [
    "## Getting multiple matches as strings"
   ]
  },
  {
   "cell_type": "code",
   "execution_count": 74,
   "metadata": {},
   "outputs": [
    {
     "name": "stdout",
     "output_type": "stream",
     "text": [
      "['ATTATAT', 'AAATTATA']\n"
     ]
    }
   ],
   "source": [
    "dna = \"CTGCATTATATCGTACGAAATTATACGCGCG!\"\n",
    "matches = re.finditer(r\"[AT]{6,}\", dna)\n",
    "result = []\n",
    "for m in matches:\n",
    "    result. append(m.group())\n",
    "print(result)"
   ]
  },
  {
   "cell_type": "code",
   "execution_count": 76,
   "metadata": {},
   "outputs": [
    {
     "name": "stdout",
     "output_type": "stream",
     "text": [
      "['ATTATAT', 'AAATTATA']\n"
     ]
    }
   ],
   "source": [
    "result = []\n",
    "result = re.findall(r\"[AT]{6,}\", dna)\n",
    "print(result)"
   ]
  },
  {
   "cell_type": "code",
   "execution_count": 77,
   "metadata": {},
   "outputs": [],
   "source": [
    "## Splitting a string using regex"
   ]
  },
  {
   "cell_type": "code",
   "execution_count": 78,
   "metadata": {},
   "outputs": [
    {
     "name": "stdout",
     "output_type": "stream",
     "text": [
      "['ACT', 'GCAT', 'GCTACG', 'ACGAT', 'CGA', 'TCG']\n"
     ]
    }
   ],
   "source": [
    "dna = \"ACTNGCATRGCTACGYACGATSCGAWTCG\"\n",
    "runs = re.split(r\"[^ATGC]\", dna)\n",
    "print(runs)"
   ]
  },
  {
   "cell_type": "code",
   "execution_count": null,
   "metadata": {},
   "outputs": [],
   "source": []
  }
 ],
 "metadata": {
  "kernelspec": {
   "display_name": "Python 3",
   "language": "python",
   "name": "python3"
  },
  "language_info": {
   "codemirror_mode": {
    "name": "ipython",
    "version": 3
   },
   "file_extension": ".py",
   "mimetype": "text/x-python",
   "name": "python",
   "nbconvert_exporter": "python",
   "pygments_lexer": "ipython3",
   "version": "3.7.1"
  }
 },
 "nbformat": 4,
 "nbformat_minor": 2
}
